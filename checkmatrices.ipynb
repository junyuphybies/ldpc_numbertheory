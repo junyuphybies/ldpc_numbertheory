{
 "cells": [
  {
   "cell_type": "markdown",
   "source": [
    "## Genertaing Check Matrices Based on the 4-fold Cayley complex with PGL/PSL"
   ],
   "metadata": {
    "collapsed": false
   }
  },
  {
   "cell_type": "code",
   "execution_count": 9,
   "metadata": {
    "collapsed": true
   },
   "outputs": [],
   "source": [
    "import numpy as np\n",
    "import scipy.io\n",
    "mat13_5= scipy.io.loadmat('ramunujancsscodes_13_5_pgl.mat')\n",
    "mat17_5= scipy.io.loadmat('ramunujancsscodes_17_5_pgl.mat')\n",
    "mat29_5= scipy.io.loadmat('ramunujancsscodes_29_5_psl.mat')\n",
    "\n",
    "mats = [mat13_5, mat29_5, mat17_5] # a family of three in ascending orders of qubits num\n",
    "\n",
    "# create parity check dictionary to store the parity check matrices for the code family\n",
    "ZChecks = dict()\n",
    "XChecks = dict()"
   ]
  },
  {
   "cell_type": "code",
   "execution_count": 10,
   "outputs": [],
   "source": [
    "def make_check(mat):\n",
    "    TGVEhor = mat['Expression1'][0] # x check for right action\n",
    "    TGVEver = mat['Expression1'][1] # x checks for left action\n",
    "    TGEFhor = mat['Expression1'][2] # z checks for right action\n",
    "    TGEFver = mat['Expression1'][3] # z checks for left action\n",
    "    # print(np.linalg.norm(np.matmul(TGVEhor, TGEFhor)- np.matmul(TGVEver, TGEFver)))\n",
    "    TGVE = np.concatenate([TGVEver, TGVEhor], axis=1) # the concatenated X checks\n",
    "    TGEF = np.concatenate([TGEFver, TGEFhor], axis=0).transpose() # the concatenated Z checks\n",
    "    return TGVE, TGEF\n",
    "\n"
   ],
   "metadata": {
    "collapsed": false,
    "pycharm": {
     "name": "#%%\n"
    }
   }
  },
  {
   "cell_type": "markdown",
   "source": [
    "#### Check Code Properties"
   ],
   "metadata": {
    "collapsed": false,
    "pycharm": {
     "name": "#%% md\n"
    }
   }
  },
  {
   "cell_type": "code",
   "execution_count": 11,
   "outputs": [
    {
     "name": "stdout",
     "output_type": "stream",
     "text": [
      "(23520, 3360)\n",
      "(120, 3360)\n",
      "[]\n"
     ]
    }
   ],
   "source": [
    "# (1) Check for the CSS codes condition HxHz^T = 0\n",
    "\n",
    "TGVE, TGEF = make_check(mat13_5)\n",
    "print(TGEF.shape)\n",
    "print(TGVE.shape)\n",
    "T = np.matmul(TGVE, TGEF.transpose())\n",
    "# np.where(T==1)\n",
    "# np.where(T>2)\n",
    "print(len(T[T &2 ==1])) # THe CSS condition is fulfilled."
   ],
   "metadata": {
    "collapsed": false,
    "pycharm": {
     "name": "#%%\n"
    }
   }
  },
  {
   "cell_type": "code",
   "execution_count": 21,
   "outputs": [
    {
     "name": "stdout",
     "output_type": "stream",
     "text": [
      "the maximum weight given Z stabilizer: 2, should be bounded by 4 by Cayley Complexes \n",
      "the maximum number of Z stabilizers on a given qubit: 12, should be bounded by 14\n",
      "the maximum weight given X stabilizer: 19, should be bounded by 28  \n",
      "the maximum number of X stabilizers on a given qubit: 1, should be bounded by 2\n"
     ]
    }
   ],
   "source": [
    "# (2) check the low-density LDPC codes (apated from Lemma 3.2 from Vidick et al 2022)\n",
    "\n",
    "ma = 1\n",
    "mb = 1 # current setting We could change that later for better code rate (see later)\n",
    "Delta = 14 #we are testing for p=13 q =5\n",
    "\n",
    "Z_row = np.count_nonzero(TGEF, axis=1)\n",
    "Z_col = np.count_nonzero(TGEF, axis=0)\n",
    "# print(len(Z_row))\n",
    "print(f'the maximum weight given Z stabilizer: {np.max(Z_row)}, should be bounded by {4} by Cayley Complexes ')\n",
    "print(f'the maximum number of Z stabilizers on a given qubit: {np.max(Z_col)}, should be bounded by {ma * mb * Delta}')\n",
    "\n",
    "X_row = np.count_nonzero(TGVE, axis=1)\n",
    "X_col = np.count_nonzero(TGVE, axis=0)\n",
    "print(f'the maximum weight given X stabilizer: {np.max(X_row)}, should be bounded by {2 * Delta}  ')\n",
    "print(f'the maximum number of X stabilizers on a given qubit: {np.max(X_col)}, should be bounded by {2 * ma * mb}')\n"
   ],
   "metadata": {
    "collapsed": false,
    "pycharm": {
     "name": "#%%\n"
    }
   }
  },
  {
   "cell_type": "code",
   "execution_count": 22,
   "outputs": [
    {
     "data": {
      "text/plain": "-2.5714285714285716"
     },
     "execution_count": 22,
     "metadata": {},
     "output_type": "execute_result"
    }
   ],
   "source": [
    "# 3 Check the code rates adapted from the Lemma 3.3 from Vidick et al 2022 and thm 2.10.\n",
    "\n",
    "def coderate(TGVE, TGEF):\n",
    "    X2 = np.shape(TGEF)[0]\n",
    "    X1 = 2 * np.shape(TGEF)[1]\n",
    "    X0 = 4 * np.shape(TGVE)[0]\n",
    "    return (X1 - X2 - X0) / X1\n",
    "\n",
    "coderate(TGVE, TGEF) # there is no surprise since we choose ma & mb =1 i.e too small.\n",
    "#TODO: to change ma, mb such that the code rate would be positive. (This, however, comes with storage issue that I am fixing)"
   ],
   "metadata": {
    "collapsed": false,
    "pycharm": {
     "name": "#%%\n"
    }
   }
  },
  {
   "cell_type": "code",
   "execution_count": null,
   "outputs": [],
   "source": [],
   "metadata": {
    "collapsed": false,
    "pycharm": {
     "name": "#%%\n"
    }
   }
  },
  {
   "cell_type": "code",
   "execution_count": 8,
   "outputs": [
    {
     "name": "stdout",
     "output_type": "stream",
     "text": [
      "120\n",
      "3240\n"
     ]
    }
   ],
   "source": [
    "print(np.linalg.matrix_rank(TGVE))\n",
    "print(np.linalg.matrix_rank(TGEF))"
   ],
   "metadata": {
    "collapsed": false,
    "pycharm": {
     "name": "#%%\n"
    }
   }
  },
  {
   "cell_type": "code",
   "execution_count": 78,
   "outputs": [],
   "source": [
    "for description, mat in zip(['13_5_pgl', '29_5_psl', '17_5_pgl'], mats):\n",
    "    TGVE, TGEF = make_check(mat)\n",
    "    XChecks[description] = TGVE\n",
    "    ZChecks[description] = TGEF\n",
    "\n"
   ],
   "metadata": {
    "collapsed": false,
    "pycharm": {
     "name": "#%%\n"
    }
   }
  },
  {
   "cell_type": "code",
   "execution_count": 79,
   "outputs": [
    {
     "data": {
      "text/plain": "dict_keys(['13_5_pgl', '29_5_psl', '17_5_pgl'])"
     },
     "execution_count": 79,
     "metadata": {},
     "output_type": "execute_result"
    }
   ],
   "source": [
    "XChecks.keys()"
   ],
   "metadata": {
    "collapsed": false,
    "pycharm": {
     "name": "#%%\n"
    }
   }
  },
  {
   "cell_type": "code",
   "execution_count": 80,
   "outputs": [
    {
     "data": {
      "text/plain": "dict_keys(['13_5_pgl', '29_5_psl', '17_5_pgl'])"
     },
     "execution_count": 80,
     "metadata": {},
     "output_type": "execute_result"
    }
   ],
   "source": [
    "ZChecks.keys()"
   ],
   "metadata": {
    "collapsed": false,
    "pycharm": {
     "name": "#%%\n"
    }
   }
  },
  {
   "cell_type": "code",
   "execution_count": 59,
   "outputs": [],
   "source": [],
   "metadata": {
    "collapsed": false,
    "pycharm": {
     "name": "#%%\n"
    }
   }
  },
  {
   "cell_type": "code",
   "execution_count": null,
   "outputs": [],
   "source": [],
   "metadata": {
    "collapsed": false,
    "pycharm": {
     "name": "#%%\n"
    }
   }
  }
 ],
 "metadata": {
  "kernelspec": {
   "display_name": "Python 3",
   "language": "python",
   "name": "python3"
  },
  "language_info": {
   "codemirror_mode": {
    "name": "ipython",
    "version": 2
   },
   "file_extension": ".py",
   "mimetype": "text/x-python",
   "name": "python",
   "nbconvert_exporter": "python",
   "pygments_lexer": "ipython2",
   "version": "2.7.6"
  }
 },
 "nbformat": 4,
 "nbformat_minor": 0
}