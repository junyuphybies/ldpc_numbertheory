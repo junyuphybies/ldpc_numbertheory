{
 "cells": [
  {
   "cell_type": "markdown",
   "metadata": {
    "collapsed": false
   },
   "source": [
    "## Genertaing Check Matrices Based on the 4-fold Cayley complex with PGL/PSL"
   ]
  },
  {
   "cell_type": "code",
   "execution_count": 1,
   "metadata": {
    "collapsed": true
   },
   "outputs": [
    {
     "name": "stdout",
     "output_type": "stream",
     "text": [
      "255360\n",
      "159840\n"
     ]
    }
   ],
   "source": [
    "# Loading the codes\n",
    "import numpy as np\n",
    "import pandas as pd \n",
    "\n",
    "# Loading the parameters: \n",
    "ma = 6\n",
    "mb = 9 \n",
    "degree = 14 \n",
    "basedim = 120 \n",
    "edgedim = degree * basedim\n",
    "facedim = degree * edgedim\n",
    "\n",
    "# reading the derived graph codes\n",
    "# TGVEhor_idx = pd.read_csv('data/p13_q5/ramunujancsscodes_13_5_pgl_TGVEhor.csv').values.tolist()\n",
    "# TGVEver_idx = pd.read_csv('data/p13_q5/ramunujancsscodes_13_5_pgl_TGVEver.csv').values.tolist()\n",
    "# TGEFhor_idx = pd.read_csv('data/p13_q5/ramunujancsscodes_13_5_pgl_TGEFhor.csv').values.tolist()\n",
    "# TGEFver_idx = pd.read_csv('data/p13_q5/ramunujancsscodes_13_5_pgl_TGEFver.csv').values.tolist()\n",
    "\n",
    "# print(len(TGEFhor_idx))\n",
    "# print(len(TGEFver_idx))\n",
    "# print(len(TGVEhor_idx))\n",
    "# print(len(TGVEver_idx))\n",
    "\n",
    "# reading the X, Z parity check indices\n",
    "\n",
    "idTGEF = pd.read_csv('data/p13_q5/ramunujancsscodes_13_5_pgl_TGEF.csv', header=None).values.tolist()\n",
    "idTGVE = pd.read_csv('data/p13_q5/ramunujancsscodes_13_5_pgl_TGVE.csv', header=None).values.tolist()\n",
    "print(len(idTGEF))\n",
    "print(len(idTGVE))\n"
   ]
  },
  {
   "cell_type": "code",
   "execution_count": 2,
   "metadata": {
    "collapsed": false,
    "pycharm": {
     "name": "#%%\n"
    }
   },
   "outputs": [],
   "source": [
    "from scipy import sparse\n",
    "from build_caylaycomplexcodes import BuildqcssCodes, gf2_rank\n",
    "qCSS_codes = BuildqcssCodes(ma=3, mb=8, delta=14, basedim=120)\n",
    "# .build_codes(TGVEhor_idx, TGVEver_idx, TGEFhor_idx, TGEFver_idx)\n",
    "X, Z = qCSS_codes.build_chains(idTGVE, idTGEF)"
   ]
  },
  {
   "cell_type": "code",
   "execution_count": 3,
   "metadata": {},
   "outputs": [
    {
     "name": "stdout",
     "output_type": "stream",
     "text": [
      "(11520, 36960)\n",
      "(23520, 36960)\n"
     ]
    }
   ],
   "source": [
    "print(X.shape) \n",
    "print(Z.shape)"
   ]
  },
  {
   "cell_type": "markdown",
   "metadata": {
    "collapsed": false,
    "pycharm": {
     "name": "#%% md\n"
    }
   },
   "source": [
    "#### Check Code Properties"
   ]
  },
  {
   "cell_type": "code",
   "execution_count": 4,
   "metadata": {
    "collapsed": false,
    "pycharm": {
     "name": "#%%\n"
    }
   },
   "outputs": [
    {
     "name": "stdout",
     "output_type": "stream",
     "text": [
      "[]\n",
      "the number of entry return 1 after mod 2: None\n"
     ]
    }
   ],
   "source": [
    "# (1) Check for the CSS codes condition HxHz^T = 0\n",
    "\n",
    "## checking if the CSS condition is sastfied\n",
    "qCSS_codes.check_exactseq(sparse.csr_matrix(Z.transpose()), sparse.csr_matrix(X))"
   ]
  },
  {
   "cell_type": "code",
   "execution_count": 5,
   "metadata": {
    "collapsed": false,
    "pycharm": {
     "name": "#%%\n"
    }
   },
   "outputs": [
    {
     "name": "stdout",
     "output_type": "stream",
     "text": [
      "the maximum weight given Z stabilizer: 12, should be bounded by 32 by Cayley Complexes \n",
      "the maximum number of Z stabilizers on a given qubit: 7, should be bounded by 14\n",
      "the maximum weight given X stabilizer: 14, should be bounded by 28\n",
      "the maximum number of X stabilizers on a given qubit: 8, should be bounded by 16\n"
     ]
    }
   ],
   "source": [
    "# (2) check the low-density LDPC codes (apated from Lemma 3.2 from Vidick et al 2022)\n",
    "qCSS_codes.check_lowdensity(Z, X)"
   ]
  },
  {
   "cell_type": "code",
   "execution_count": 6,
   "metadata": {
    "collapsed": false,
    "pycharm": {
     "name": "#%%\n"
    }
   },
   "outputs": [
    {
     "name": "stdout",
     "output_type": "stream",
     "text": [
      "rank of hx: 5760 rank of hz: 22924 k: 8276\n",
      "time elapsed: 683.7168498039246\n",
      "the code rate k/n: 0.2239177489177489\n"
     ]
    }
   ],
   "source": [
    "# 3 Check the code rates adapted from the Lemma 3.3 from Vidick et al 2022 and thm 2.10.\n",
    "import time \n",
    "start_time = time.time()\n",
    "rank_hx = gf2_rank(X)\n",
    "rank_hz = gf2_rank(Z)\n",
    "n = X.shape[1]\n",
    "k = n - (rank_hx + rank_hz)\n",
    "print('rank of hx:', rank_hx, 'rank of hz:', rank_hz, 'k:', k)\n",
    "end_time = time.time()\n",
    "print('time elapsed:', end_time - start_time)\n",
    "print(f'the code rate k/n: {k/n}')"
   ]
  },
  {
   "cell_type": "code",
   "execution_count": 38,
   "metadata": {
    "collapsed": false,
    "pycharm": {
     "name": "#%%\n"
    }
   },
   "outputs": [
    {
     "name": "stdout",
     "output_type": "stream",
     "text": [
      "6480\n"
     ]
    }
   ],
   "source": []
  },
  {
   "cell_type": "markdown",
   "metadata": {},
   "source": []
  },
  {
   "cell_type": "code",
   "execution_count": null,
   "metadata": {},
   "outputs": [],
   "source": []
  }
 ],
 "metadata": {
  "kernelspec": {
   "display_name": "py39",
   "language": "python",
   "name": "python3"
  },
  "language_info": {
   "codemirror_mode": {
    "name": "ipython",
    "version": 3
   },
   "file_extension": ".py",
   "mimetype": "text/x-python",
   "name": "python",
   "nbconvert_exporter": "python",
   "pygments_lexer": "ipython3",
   "version": "3.9.7"
  },
  "vscode": {
   "interpreter": {
    "hash": "5ac999192fbcf3b9f09615173217336a22800678b67ebe846d9e7ed300ff9c95"
   }
  }
 },
 "nbformat": 4,
 "nbformat_minor": 0
}
