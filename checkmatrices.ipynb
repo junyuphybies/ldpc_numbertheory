{
 "cells": [
  {
   "cell_type": "markdown",
   "source": [
    "## Genertaing Check Matrices Based on the 4-fold Cayley complex with PGL/PSL"
   ],
   "metadata": {
    "collapsed": false
   }
  },
  {
   "cell_type": "code",
   "execution_count": 56,
   "metadata": {
    "collapsed": true
   },
   "outputs": [],
   "source": [
    "import numpy as np\n",
    "import scipy.io\n",
    "mat13_5= scipy.io.loadmat('ramunujancsscodes_13_5_pgl.mat')\n",
    "mat17_5= scipy.io.loadmat('ramunujancsscodes_17_5_pgl.mat')\n",
    "mat29_5= scipy.io.loadmat('ramunujancsscodes_29_5_psl.mat')\n",
    "\n",
    "mats = [mat13_5, mat29_5, mat17_5] # a family of three in ascending orders of qubits num\n",
    "\n",
    "# create parity check dictionary to store the parity check matrices for the code family\n",
    "ZChecks = dict()\n",
    "XChecks = dict()"
   ]
  },
  {
   "cell_type": "code",
   "execution_count": 47,
   "outputs": [],
   "source": [
    "def make_check(mat):\n",
    "    TGVEhor = mat['Expression1'][0] # x check for right action\n",
    "    TGVEver = mat['Expression1'][1] # x checks for left action\n",
    "    TGEFhor = mat['Expression1'][2] # z checks for right action\n",
    "    TGEFver = mat['Expression1'][3] # z checks for left action\n",
    "    TGVE = np.concatenate([-TGVEver, TGVEhor], axis=1) # the concatenated X checks\n",
    "    TGEF = np.concatenate([TGEFver, TGEFhor], axis=0).transpose() # the concatenated Z checks\n",
    "    return TGVE, TGEF\n",
    "\n"
   ],
   "metadata": {
    "collapsed": false,
    "pycharm": {
     "name": "#%%\n"
    }
   }
  },
  {
   "cell_type": "code",
   "execution_count": 53,
   "outputs": [
    {
     "name": "stdout",
     "output_type": "stream",
     "text": [
      "(38880, 4320)\n",
      "(120, 4320)\n",
      "0.0\n"
     ]
    }
   ],
   "source": [
    "TGVE, TGEF = make_check(mat17_5)\n",
    "print(TGEF.shape)\n",
    "print(TGVE.shape)\n",
    "T = np.matmul(TGVE, TGEF.transpose())\n",
    "print(np.linalg.norm(T)) # check the condition for the chain complexes (CSS codes condition)"
   ],
   "metadata": {
    "collapsed": false,
    "pycharm": {
     "name": "#%%\n"
    }
   }
  },
  {
   "cell_type": "code",
   "execution_count": 57,
   "outputs": [],
   "source": [
    "for description, mat in zip(['13_5_pgl', '29_5_psl', '17_5_pgl'], mats):\n",
    "    TGVE, TGEF = make_check(mat)\n",
    "    XChecks[description] = TGVE\n",
    "    ZChecks[description] = TGEF\n",
    "\n"
   ],
   "metadata": {
    "collapsed": false,
    "pycharm": {
     "name": "#%%\n"
    }
   }
  },
  {
   "cell_type": "code",
   "execution_count": 59,
   "outputs": [],
   "source": [],
   "metadata": {
    "collapsed": false,
    "pycharm": {
     "name": "#%%\n"
    }
   }
  },
  {
   "cell_type": "code",
   "execution_count": 40,
   "outputs": [],
   "source": [],
   "metadata": {
    "collapsed": false,
    "pycharm": {
     "name": "#%%\n"
    }
   }
  },
  {
   "cell_type": "code",
   "execution_count": 59,
   "outputs": [],
   "source": [],
   "metadata": {
    "collapsed": false,
    "pycharm": {
     "name": "#%%\n"
    }
   }
  },
  {
   "cell_type": "code",
   "execution_count": null,
   "outputs": [],
   "source": [],
   "metadata": {
    "collapsed": false,
    "pycharm": {
     "name": "#%%\n"
    }
   }
  }
 ],
 "metadata": {
  "kernelspec": {
   "display_name": "Python 3",
   "language": "python",
   "name": "python3"
  },
  "language_info": {
   "codemirror_mode": {
    "name": "ipython",
    "version": 2
   },
   "file_extension": ".py",
   "mimetype": "text/x-python",
   "name": "python",
   "nbconvert_exporter": "python",
   "pygments_lexer": "ipython2",
   "version": "2.7.6"
  }
 },
 "nbformat": 4,
 "nbformat_minor": 0
}