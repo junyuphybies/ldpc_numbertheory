{
 "cells": [
  {
   "cell_type": "markdown",
   "metadata": {
    "collapsed": false
   },
   "source": [
    "## Genertaing Check Matrices Based on the 4-fold Cayley complex with PGL/PSL"
   ]
  },
  {
   "cell_type": "code",
   "execution_count": 30,
   "metadata": {
    "collapsed": true
   },
   "outputs": [
    {
     "name": "stdout",
     "output_type": "stream",
     "text": [
      "168000\n",
      "86400\n"
     ]
    }
   ],
   "source": [
    "# Loading the codes\n",
    "import numpy as np\n",
    "import pandas as pd \n",
    "\n",
    "# Loading the parameters: \n",
    "ma = 6\n",
    "mb = 9 \n",
    "degree = 14 \n",
    "basedim = 120 \n",
    "edgedim = degree * basedim\n",
    "facedim = degree * edgedim\n",
    "\n",
    "# reading the derived graph codes\n",
    "# TGVEhor_idx = pd.read_csv('data/p13_q5/ramunujancsscodes_13_5_pgl_TGVEhor.csv').values.tolist()\n",
    "# TGVEver_idx = pd.read_csv('data/p13_q5/ramunujancsscodes_13_5_pgl_TGVEver.csv').values.tolist()\n",
    "# TGEFhor_idx = pd.read_csv('data/p13_q5/ramunujancsscodes_13_5_pgl_TGEFhor.csv').values.tolist()\n",
    "# TGEFver_idx = pd.read_csv('data/p13_q5/ramunujancsscodes_13_5_pgl_TGEFver.csv').values.tolist()\n",
    "\n",
    "# print(len(TGEFhor_idx))\n",
    "# print(len(TGEFver_idx))\n",
    "# print(len(TGVEhor_idx))\n",
    "# print(len(TGVEver_idx))\n",
    "\n",
    "# reading the X, Z parity check indices\n",
    "\n",
    "idTGEF = pd.read_csv('data/p13_q5/ramunujancsscodes_13_5_pgl_TGEF.csv', header=None).values.tolist()\n",
    "idTGVE = pd.read_csv('data/p13_q5/ramunujancsscodes_13_5_pgl_TGVE.csv', header=None).values.tolist()\n",
    "print(len(idTGEF))\n",
    "print(len(idTGVE))\n"
   ]
  },
  {
   "cell_type": "code",
   "execution_count": 31,
   "metadata": {
    "collapsed": false,
    "pycharm": {
     "name": "#%%\n"
    }
   },
   "outputs": [],
   "source": [
    "from scipy import sparse\n",
    "class BuildqcssCodes: \n",
    "    def __init__(self,ma:int, \n",
    "                mb:int, \n",
    "                delta:int, \n",
    "                basedim:int, \n",
    "                ) -> None:\n",
    "        self.ma = ma\n",
    "        self.mb =mb \n",
    "        self.delta = delta\n",
    "        self.basedim = basedim \n",
    "        self.edgedim = delta * basedim\n",
    "        self.facedim = delta * edgedim\n",
    "\n",
    "    \n",
    "    def build_codes(self, TGVEhor_idx:list, TGVEver_idx:list, TGEFhor_idx:list, TGEFver_idx:list):\n",
    "        '''\n",
    "        Build codes for the sparse index given in the matrix form\n",
    "        (newest)\n",
    "        '''\n",
    "        TGEFhor = np.zeros((self.ma * self.edgedim ,self.facedim ), dtype=int)\n",
    "        TGEFver = np.zeros((self.mb * self.edgedim ,self.facedim ), dtype=int)\n",
    "        TGVEhor = np.zeros((self.ma * self.mb * self.basedim, self.ma * self.edgedim),dtype=int)\n",
    "        TGVEver = np.zeros((self.ma * self.mb * self.basedim, self.mb * self.edgedim),dtype=int)\n",
    "        for idx in TGEFhor_idx:\n",
    "            idx = self._reindex(idx)\n",
    "            # print(idx)\n",
    "            # print(tuple(idx))\n",
    "            TGEFhor[idx] = 1\n",
    "        for idx in TGEFver_idx:\n",
    "            idx = self._reindex(idx) \n",
    "            # print(idx)\n",
    "            TGEFver[idx] = 1 \n",
    "        for idx in TGVEhor_idx:\n",
    "            idx = self._reindex(idx) \n",
    "            TGVEhor[idx] = 1 \n",
    "        for idx in TGVEver_idx:\n",
    "            idx = self._reindex(idx) \n",
    "            TGVEver[idx] = 1  \n",
    "        self.TGEFhor = TGEFhor\n",
    "        self.TGEFver = TGEFver\n",
    "        self.TGVEhor = TGVEhor\n",
    "        self.TGVEver = TGVEver\n",
    "        TGEF = np.concatenate([self.TGEFhor, self.TGEFver], axis=0)\n",
    "        TGVE = np.concatenate([self.TGVEhor, self.TGVEver], axis=1)\n",
    "        return sparse.csr_matrix(TGEF), sparse.csr_matrix(TGVE)\n",
    "\n",
    "\n",
    "    def build_chains(self, idTGVE:list, idTGEF:list): \n",
    "        \n",
    "        '''\n",
    "        Given derived graph code, we build explicit the X, Z parity checks. \n",
    "        '''\n",
    "\n",
    "        TGEF = np.zeros((self.ma * self.edgedim + self.mb * self.edgedim, self.facedim), dtype=int)\n",
    "        TGVE = np.zeros((self.ma * self.mb * self.basedim, self.ma * self.edgedim + self.mb * self.edgedim), dtype=int)\n",
    "        for idx in idTGVE:\n",
    "            idx = self._reindex(idx)\n",
    "            TGVE[idx] = 1\n",
    "        for idx in idTGEF:\n",
    "            idx = self._reindex(idx)\n",
    "            TGEF[idx] = 1 \n",
    "        return TGVE, TGEF.transpose()\n",
    "\n",
    "    def check_exactseq(self, TGEF:sparse.csr_matrix, TGVE: sparse.csr_matrix):\n",
    "        '''\n",
    "        check if XZ^T = 0 mod 2\n",
    "        '''\n",
    "        T = TGVE._mul_sparse_matrix(TGEF).toarray()\n",
    "        # T = T.toarray()\n",
    "        # np.where(T==1)\n",
    "        # np.where(T>2)\n",
    "        print(T[T % 2 ==1])\n",
    "        assert len(T[T % 2 ==1]) == 0 # check if The CSS condition is fulfilled. \n",
    "    \n",
    "    def check_exactseq2(self):\n",
    "        '''\n",
    "        check if XZ^T = 0 mod 2\n",
    "        '''\n",
    "        Thor = sparse.csr_matrix(self.TGVEhor)._mul_sparse_matrix(sparse.csr_matrix(self.TGEFhor)).toarray()\n",
    "        Tver = sparse.csr_matrix(self.TGVEver)._mul_sparse_matrix(sparse.csr_matrix(self.TGEFver)).toarray()\n",
    "        T = Thor + Tver \n",
    "        # T = T.toarray()\n",
    "        # np.where(T==1)\n",
    "        # np.where(T>2)\n",
    "        print(len(T[T % 2 ==1]))\n",
    "        assert len(T[T % 2 ==1]) == 0 # THe CSS condition is fulfilled.\n",
    "\n",
    "    def check_lowdensity(self, Z: np.array, X: np.array):\n",
    "        Z_row = np.count_nonzero(Z, axis=1)\n",
    "        Z_col = np.count_nonzero(Z, axis=0)\n",
    "        # print(len(Z_row))\n",
    "        print(f'the maximum weight given Z stabilizer: {np.max(Z_row)}, should be bounded by {4 * max(self.ma, self.mb)} by Cayley Complexes ')\n",
    "        print(f'the maximum number of Z stabilizers on a given qubit: {np.max(Z_col)}, should be bounded by {self.delta}')\n",
    "\n",
    "        X_row = np.count_nonzero(X, axis=1)\n",
    "        X_col = np.count_nonzero(X, axis=0)\n",
    "        print(f'the maximum weight given X stabilizer: {np.max(X_row)}, should be bounded by {2 * self.delta}')\n",
    "        print(f'the maximum number of X stabilizers on a given qubit: {np.max(X_col)}, should be bounded by {2 * max(self.ma, self.mb)}')\n",
    "    \n",
    "    def _reindex(self, index:list):\n",
    "        new_index = []\n",
    "        for i in index: \n",
    "            new_index.append(i -1)\n",
    "        return tuple(new_index)\n"
   ]
  },
  {
   "cell_type": "code",
   "execution_count": 32,
   "metadata": {
    "collapsed": false,
    "pycharm": {
     "name": "#%%\n"
    }
   },
   "outputs": [],
   "source": [
    "qCSS_codes = BuildqcssCodes(ma=6, mb=9, delta=14, basedim=120)\n",
    "# .build_codes(TGVEhor_idx, TGVEver_idx, TGEFhor_idx, TGEFver_idx)\n",
    "X, Z = qCSS_codes.build_chains(idTGVE, idTGEF)"
   ]
  },
  {
   "cell_type": "code",
   "execution_count": 33,
   "metadata": {},
   "outputs": [
    {
     "name": "stdout",
     "output_type": "stream",
     "text": [
      "(6480, 25200)\n",
      "(23520, 25200)\n"
     ]
    }
   ],
   "source": [
    "print(X.shape) \n",
    "print(Z.shape)"
   ]
  },
  {
   "cell_type": "markdown",
   "metadata": {
    "collapsed": false,
    "pycharm": {
     "name": "#%% md\n"
    }
   },
   "source": [
    "#### Check Code Properties"
   ]
  },
  {
   "cell_type": "code",
   "execution_count": 35,
   "metadata": {
    "collapsed": false,
    "pycharm": {
     "name": "#%%\n"
    }
   },
   "outputs": [
    {
     "name": "stdout",
     "output_type": "stream",
     "text": [
      "[]\n"
     ]
    }
   ],
   "source": [
    "# (1) Check for the CSS codes condition HxHz^T = 0\n",
    "\n",
    "## checking if the CSS condition is sastfied\n",
    "qCSS_codes.check_exactseq(sparse.csr_matrix(Z.transpose()), sparse.csr_matrix(X))"
   ]
  },
  {
   "cell_type": "code",
   "execution_count": 36,
   "metadata": {
    "collapsed": false,
    "pycharm": {
     "name": "#%%\n"
    }
   },
   "outputs": [
    {
     "name": "stdout",
     "output_type": "stream",
     "text": [
      "the maximum weight given Z stabilizer: 10, should be bounded by 36 by Cayley Complexes \n",
      "the maximum number of Z stabilizers on a given qubit: 10, should be bounded by 14\n",
      "the maximum weight given X stabilizer: 19, should be bounded by 28  \n",
      "the maximum number of X stabilizers on a given qubit: 6, should be bounded by 18\n"
     ]
    }
   ],
   "source": [
    "# (2) check the low-density LDPC codes (apated from Lemma 3.2 from Vidick et al 2022)\n",
    "qCSS_codes.check_lowdensity(Z, X)\n"
   ]
  },
  {
   "cell_type": "code",
   "execution_count": 37,
   "metadata": {
    "collapsed": false,
    "pycharm": {
     "name": "#%%\n"
    }
   },
   "outputs": [
    {
     "data": {
      "text/plain": [
       "0.01904761904761905"
      ]
     },
     "execution_count": 37,
     "metadata": {},
     "output_type": "execute_result"
    }
   ],
   "source": [
    "# 3 Check the code rates adapted from the Lemma 3.3 from Vidick et al 2022 and thm 2.10.\n",
    "\n",
    "def coderate(X, Z):\n",
    "    X2 = np.shape(Z)[0]\n",
    "    X1 = 2 * np.shape(Z)[1]\n",
    "    X0 = 4 * np.shape(X)[0]\n",
    "    return (X1 - X2 - X0) / X1\n",
    "\n",
    "coderate(X, Z) # there is no surprise since we choose ma & mb =1 i.e too small.\n",
    "#TODO: to change ma, mb such that the code rate would be positive. (This, however, comes with storage issue that I am fixing)"
   ]
  },
  {
   "cell_type": "code",
   "execution_count": 38,
   "metadata": {
    "collapsed": false,
    "pycharm": {
     "name": "#%%\n"
    }
   },
   "outputs": [
    {
     "name": "stdout",
     "output_type": "stream",
     "text": [
      "6480\n"
     ]
    }
   ],
   "source": [
    "print(np.linalg.matrix_rank(X))\n",
    "print(np.linalg.matrix_rank(Z))"
   ]
  },
  {
   "cell_type": "markdown",
   "metadata": {},
   "source": []
  },
  {
   "cell_type": "code",
   "execution_count": null,
   "metadata": {},
   "outputs": [],
   "source": []
  }
 ],
 "metadata": {
  "kernelspec": {
   "display_name": "py39",
   "language": "python",
   "name": "python3"
  },
  "language_info": {
   "codemirror_mode": {
    "name": "ipython",
    "version": 3
   },
   "file_extension": ".py",
   "mimetype": "text/x-python",
   "name": "python",
   "nbconvert_exporter": "python",
   "pygments_lexer": "ipython3",
   "version": "3.9.7"
  },
  "vscode": {
   "interpreter": {
    "hash": "5ac999192fbcf3b9f09615173217336a22800678b67ebe846d9e7ed300ff9c95"
   }
  }
 },
 "nbformat": 4,
 "nbformat_minor": 0
}
