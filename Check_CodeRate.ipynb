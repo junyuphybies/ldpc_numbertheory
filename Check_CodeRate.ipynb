{
 "cells": [
  {
   "cell_type": "code",
   "execution_count": 12,
   "id": "dfada2e2",
   "metadata": {},
   "outputs": [],
   "source": [
    "import numpy as np\n",
    "import time\n",
    "# import ldpc\n",
    "# import bposd\n",
    "# from bposd.css import css_code"
   ]
  },
  {
   "cell_type": "code",
   "execution_count": 9,
   "id": "e94d31c4",
   "metadata": {},
   "outputs": [],
   "source": [
    "def BinaryRepMat(mat):\n",
    "    rows = [int(''.join(map(str, list(row))), 2) for row in mat]\n",
    "#     for row in mat:\n",
    "#         binary_str = ''.join(map(str, list(row)))\n",
    "#         rows.append(int(binary_str, 2))\n",
    "        \n",
    "    return rows\n",
    "        \n",
    "def rankBinaryMat(mat):\n",
    "    \"\"\"\n",
    "    Find rank of a matrix over GF2.\n",
    "\n",
    "    The rows of the matrix are given as nonnegative integers, thought\n",
    "    of as bit-strings.\n",
    "\n",
    "    This function modifies the input list. Use gf2_rank(rows.copy())\n",
    "    instead of gf2_rank(rows) to avoid modifying rows.\n",
    "    \"\"\"\n",
    "    rows = BinaryRepMat(mat)\n",
    "    rank = 0\n",
    "    while rows:\n",
    "        pivot_row = rows.pop()\n",
    "        if pivot_row:\n",
    "            rank += 1\n",
    "            lsb = pivot_row & -pivot_row\n",
    "            for index, row in enumerate(rows):\n",
    "                if row & lsb:\n",
    "                    rows[index] = row ^ pivot_row\n",
    "    return rank\n",
    "\n",
    "# def rankBinaryMat(A):\n",
    "#     n = len(A[0])\n",
    "#     rank = 0\n",
    "#     for col in range(n):\n",
    "#         j = 0\n",
    "#         rows = []\n",
    "#         while j < len(A):\n",
    "#             if A[j][col] == 1:\n",
    "#                 rows += [j]\n",
    "#             j += 1\n",
    "#         if len(rows) >= 1:\n",
    "#             for c in range(1,len(rows)):\n",
    "#                 for k in range(n):\n",
    "#                     A[rows[c]][k] = (A[rows[c]][k] +A[rows[0]][k])%2\n",
    "#             A.pop(rows[0])\n",
    "#             rank += 1\n",
    "#     for row in A:\n",
    "#         if sum(row) > 0:\n",
    "#             rank += 1\n",
    "#     return rank\n",
    "\n",
    "\n",
    "def mod_HM(num):\n",
    "    if np.abs(num - np.round(num)) < 1e-2:\n",
    "        num -= num - np.round(num)\n",
    "    return np.mod(num, 1)\n",
    "\n",
    "def FromPauliToPCMatrix(pauli_operators):\n",
    "    pauli_stabilizers = pauli_operators\n",
    "    pauli_logical_xs = (pauli_operators[0])\n",
    "    pauli_logical_zs = (pauli_operators[0])\n",
    "    eval_code = BasicCode(pauli_stabilizers=pauli_stabilizers, pauli_logical_xs=pauli_logical_xs, pauli_logical_zs=pauli_logical_zs)\n",
    "    return eval_code.stabilizers\n",
    "\n",
    "def IfStabilizer(code_stabilizer_matrix, eval_1chain_vec):\n",
    "    stabilizer_rank = rankBinaryMat(np.ndarray.tolist(code_stabilizer_matrix))\n",
    "    joined_matrix = np.vstack([code_stabilizer_matrix, eval_1chain_vec])\n",
    "    joined_rank = rankBinaryMat(np.ndarray.tolist(joined_matrix))\n",
    "    if joined_rank > stabilizer_rank:\n",
    "        return False\n",
    "    else:\n",
    "        return True\n",
    "\n",
    "def SympleticMatrixProduct(mat1, mat2, N):\n",
    "    zero_matrix = np.zeros([N,N])\n",
    "    identity_matrix = np.identity(N)\n",
    "    I0_s = np.matrix(np.vstack([np.hstack([zero_matrix, identity_matrix]), np.hstack([identity_matrix, zero_matrix])]))\n",
    "    return mat1*I0_s*mat2%2\n",
    "    \n",
    "def IfCommute(eval_1chain_vec, eval_2chain_vec):\n",
    "    #N = int(eval_1chain_vec.shape[1]/2)\n",
    "    N = int(len(eval_1chain_vec)/2)\n",
    "    #print(N)\n",
    "    commu_vec = SympleticMatrixProduct(np.matrix(eval_1chain_vec), np.transpose(np.matrix(eval_2chain_vec)), N)\n",
    "    if np.sum(commu_vec) > 0:\n",
    "        return False\n",
    "    else:\n",
    "        return True\n",
    "    \n",
    "def IfCenterlizer(code_stabilizer_matrix, eval_1chain_vec):\n",
    "    N = int(code_stabilizer_matrix.shape[1]/2)\n",
    "    commu_vec = SympleticMatrixProduct(np.matrix(code_stabilizer_matrix), np.transpose(np.matrix(eval_1chain_vec)), N)\n",
    "    if np.sum(commu_vec) > 0:\n",
    "        return False\n",
    "    else:\n",
    "        return True\n",
    "    \n",
    "def IfLogicalOper(code_stabilizer_matrix, eval_1chain_vec):\n",
    "    return IfCenterlizer(code_stabilizer_matrix, eval_1chain_vec) & (not IfStabilizer(code_stabilizer_matrix, eval_1chain_vec))\n",
    "\n",
    "\n",
    "def FromErrorChainToPauli(error_chain):\n",
    "    n = round(len(error_chain)/2)\n",
    "    pauli_operator = ''\n",
    "    for i in range(n):\n",
    "        if (error_chain[i] == 1) & (error_chain[n + i] == 1):\n",
    "            pauli_operator += 'Y'\n",
    "        elif (error_chain[i] == 1):\n",
    "            pauli_operator += 'X'\n",
    "        elif (error_chain[n + i] == 1):\n",
    "            pauli_operator += 'Z'\n",
    "        else:\n",
    "            pauli_operator += 'I'\n",
    "    return pauli_operator"
   ]
  },
  {
   "attachments": {},
   "cell_type": "markdown",
   "id": "8fe5e5cc",
   "metadata": {},
   "source": [
    "## Load Ramunujan Cayley Complex Codes"
   ]
  },
  {
   "attachments": {},
   "cell_type": "markdown",
   "id": "f0200484",
   "metadata": {},
   "source": [
    "#### Load Data now\n",
    "\n",
    "\n"
   ]
  },
  {
   "cell_type": "code",
   "execution_count": 2,
   "id": "4d1ca370",
   "metadata": {},
   "outputs": [
    {
     "name": "stdout",
     "output_type": "stream",
     "text": [
      "168000\n",
      "86400\n"
     ]
    }
   ],
   "source": [
    "# Loading the codes\n",
    "import numpy as np\n",
    "import pandas as pd \n",
    "\n",
    "# Loading the parameters: \n",
    "ma = 6\n",
    "mb = 9 \n",
    "degree = 14 \n",
    "basedim = 120 \n",
    "edgedim = degree * basedim\n",
    "facedim = degree * edgedim\n",
    "\n",
    "\n",
    "\n",
    "idTGEF = pd.read_csv('data/p13_q5/ramunujancsscodes_13_5_pgl_TGEF.csv', header=None).values.tolist()\n",
    "idTGVE = pd.read_csv('data/p13_q5/ramunujancsscodes_13_5_pgl_TGVE.csv', header=None).values.tolist()\n",
    "print(len(idTGEF))\n",
    "print(len(idTGVE))"
   ]
  },
  {
   "cell_type": "code",
   "execution_count": 4,
   "id": "221ff929",
   "metadata": {},
   "outputs": [
    {
     "name": "stdout",
     "output_type": "stream",
     "text": [
      "(6480, 25200)\n",
      "(23520, 25200)\n"
     ]
    }
   ],
   "source": [
    "from build_caylaycomplexcodes import BuildqcssCodes\n",
    "\n",
    "qCSS_codes = BuildqcssCodes(ma=6, mb=9, delta=14, basedim=120)\n",
    "# .build_codes(TGVEhor_idx, TGVEver_idx, TGEFhor_idx, TGEFver_idx)\n",
    "X, Z = qCSS_codes.build_chains(idTGVE, idTGEF)\n",
    "print(X.shape)\n",
    "print(Z.shape)"
   ]
  },
  {
   "cell_type": "code",
   "execution_count": 6,
   "id": "35e3b409",
   "metadata": {},
   "outputs": [
    {
     "name": "stdout",
     "output_type": "stream",
     "text": [
      "[]\n"
     ]
    }
   ],
   "source": [
    "from scipy import sparse\n",
    "# Check properties \n",
    "# (1) Check for the CSS codes condition HxHz^T = 0\n",
    "\n",
    "## checking if the CSS condition is sastfied\n",
    "qCSS_codes.check_exactseq(sparse.csr_matrix(Z.transpose()), sparse.csr_matrix(X))"
   ]
  },
  {
   "cell_type": "code",
   "execution_count": 8,
   "id": "1a3af49b",
   "metadata": {},
   "outputs": [
    {
     "name": "stdout",
     "output_type": "stream",
     "text": [
      "the maximum weight given Z stabilizer: 10, should be bounded by 36 by Cayley Complexes \n",
      "the maximum number of Z stabilizers on a given qubit: 10, should be bounded by 14\n",
      "the maximum weight given X stabilizer: 19, should be bounded by 28\n",
      "the maximum number of X stabilizers on a given qubit: 6, should be bounded by 18\n"
     ]
    }
   ],
   "source": [
    "# (2) check the low-density LDPC codes (apated from Lemma 3.2 from Vidick et al 2022)\n",
    "qCSS_codes.check_lowdensity(Z, X)\n",
    "# 3 Check the code rates adapted from the Lemma 3.3 from Vidick et al 2022 and thm 2.10.\n",
    "\n",
    "# def coderate(X, Z):\n",
    "#     X2 = np.shape(Z)[0]\n",
    "#     X1 = 2 * np.shape(Z)[1]\n",
    "#     X0 = 4 * np.shape(X)[0]\n",
    "#     return (X1 - X2 - X0) / X1\n",
    "\n",
    "# print(f'the code rate is at least {coderate(X, Z)}') "
   ]
  },
  {
   "cell_type": "markdown",
   "id": "71be0295",
   "metadata": {},
   "source": [
    "# Method 1: using the ldpc package"
   ]
  },
  {
   "cell_type": "code",
   "execution_count": null,
   "id": "82900c54",
   "metadata": {},
   "outputs": [],
   "source": [
    "hx = XChecks['13_5_pgl']\n",
    "hz = ZChecks['13_5_pgl']\n",
    "tanner_ff_code1 = css_code(hx=hx,hz=hz)\n",
    "\n",
    "print('print code parametersP:', tanner_ff_code1.code_params) # format: (\\Delta_v, \\Delta_c)-\"[[n,k,d]]\""
   ]
  },
  {
   "cell_type": "markdown",
   "id": "1e99abbb",
   "metadata": {},
   "source": [
    "# Method 2: compute the rank of H_x + rank of H_Z, then k = n - (rank(H_x) + rank(H_z))"
   ]
  },
  {
   "cell_type": "code",
   "execution_count": 13,
   "id": "2ef22782",
   "metadata": {},
   "outputs": [
    {
     "name": "stdout",
     "output_type": "stream",
     "text": [
      "rank of hx: 6480 rank of hz: 17760 k: 960\n",
      "time elapsed: 379.5679109096527\n"
     ]
    }
   ],
   "source": [
    "start_time = time.time()\n",
    "rank_hx = rankBinaryMat(X)\n",
    "rank_hz = rankBinaryMat(Z)\n",
    "n = X.shape[1]\n",
    "k = n - (rank_hx + rank_hz)\n",
    "print('rank of hx:', rank_hx, 'rank of hz:', rank_hz, 'k:', k)\n",
    "end_time = time.time()\n",
    "print('time elapsed:', end_time - start_time)"
   ]
  },
  {
   "cell_type": "code",
   "execution_count": 14,
   "id": "4566aaa5",
   "metadata": {},
   "outputs": [
    {
     "name": "stdout",
     "output_type": "stream",
     "text": [
      "the code rate is 0.0380952380952381\n"
     ]
    }
   ],
   "source": [
    "print(f'the code rate is {k/n}')"
   ]
  }
 ],
 "metadata": {
  "kernelspec": {
   "display_name": "qbraid",
   "language": "python",
   "name": "python3"
  },
  "language_info": {
   "codemirror_mode": {
    "name": "ipython",
    "version": 3
   },
   "file_extension": ".py",
   "mimetype": "text/x-python",
   "name": "python",
   "nbconvert_exporter": "python",
   "pygments_lexer": "ipython3",
   "version": "3.9.13"
  },
  "vscode": {
   "interpreter": {
    "hash": "3ea74c7ab05c8c8da39d13e7f1ce52571bbc1e7779f511d3e90599ee634728c0"
   }
  }
 },
 "nbformat": 4,
 "nbformat_minor": 5
}
